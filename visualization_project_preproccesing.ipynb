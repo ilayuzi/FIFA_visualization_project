{
  "cells": [
    {
      "cell_type": "code",
      "source": [
        "import pandas as pd\n",
        "import re\n",
        "import matplotlib.pyplot as plt\n",
        "import numpy as np\n",
        "import seaborn as sns\n"
      ],
      "metadata": {
        "id": "CMpQmyjT1YG5"
      },
      "execution_count": null,
      "outputs": []
    },
    {
      "cell_type": "code",
      "execution_count": null,
      "metadata": {
        "colab": {
          "base_uri": "https://localhost:8080/"
        },
        "id": "cw0j7R_6XxEv",
        "outputId": "31a1c541-19e4-40e2-bd31-f846e3f9771f"
      },
      "outputs": [
        {
          "output_type": "stream",
          "name": "stdout",
          "text": [
            "Downloading fifa-player-stats-database.zip to /content\n",
            " 53% 7.00M/13.3M [00:00<00:00, 28.8MB/s]\n",
            "100% 13.3M/13.3M [00:00<00:00, 48.2MB/s]\n",
            "Archive:  fifa-player-stats-database.zip\n",
            "  inflating: FIFA17_official_data.csv  \n",
            "  inflating: FIFA18_official_data.csv  \n",
            "  inflating: FIFA19_official_data.csv  \n",
            "  inflating: FIFA20_official_data.csv  \n",
            "  inflating: FIFA21_official_data.csv  \n",
            "  inflating: FIFA22_official_data.csv  \n",
            "  inflating: FIFA23_official_data.csv  \n"
          ]
        }
      ],
      "source": [
        "! mkdir ~/.kaggle\n",
        "! cp kaggle.json ~/.kaggle/\n",
        "! chmod 600 ~/.kaggle/kaggle.json\n",
        "!kaggle datasets download -d bryanb/fifa-player-stats-database\n",
        "!unzip fifa-player-stats-database.zip\n",
        "\n"
      ]
    },
    {
      "cell_type": "code",
      "execution_count": null,
      "metadata": {
        "id": "IBcRmqh1JMXq"
      },
      "outputs": [],
      "source": [
        "fifa17 = pd.read_csv('FIFA17_official_data.csv')\n",
        "fifa18 = pd.read_csv('FIFA18_official_data.csv')\n",
        "fifa19 = pd.read_csv('FIFA19_official_data.csv')\n",
        "fifa20 = pd.read_csv('FIFA20_official_data.csv')\n",
        "fifa21 = pd.read_csv('FIFA21_official_data.csv')\n",
        "fifa22 = pd.read_csv('FIFA22_official_data.csv')\n"
      ]
    },
    {
      "cell_type": "code",
      "source": [
        "# Count the number of null values in each column\n",
        "null_counts = fifa18.isnull().sum()\n",
        "print(\"Null Value Counts:\\n\", null_counts)"
      ],
      "metadata": {
        "colab": {
          "base_uri": "https://localhost:8080/"
        },
        "id": "pJz-j520P7kM",
        "outputId": "e507281f-985e-442f-9aa3-0445b90c4cbc"
      },
      "execution_count": null,
      "outputs": [
        {
          "output_type": "stream",
          "name": "stdout",
          "text": [
            "Null Value Counts:\n",
            " ID                        0\n",
            "Name                      0\n",
            "Age                       0\n",
            "Photo                     0\n",
            "Nationality               0\n",
            "                       ... \n",
            "GKPositioning             0\n",
            "GKReflexes                0\n",
            "Best Position             0\n",
            "Best Overall Rating       0\n",
            "Release Clause         1748\n",
            "Length: 64, dtype: int64\n"
          ]
        }
      ]
    },
    {
      "cell_type": "code",
      "execution_count": null,
      "metadata": {
        "id": "ELDDmE1IrdXY"
      },
      "outputs": [],
      "source": [
        "def clean_fifa_data(df):\n",
        "    def convert_column_to_int(df, col_name):\n",
        "        regex = r'\\d+'\n",
        "        lst = []\n",
        "        for value in df[col_name]:\n",
        "            match = re.search(regex, value)\n",
        "            if match:\n",
        "                number = int(match.group())\n",
        "                lst.append(number)\n",
        "            else:\n",
        "                lst.append(0)  # handle missing values\n",
        "        df[col_name] = lst\n",
        "\n",
        "    # Convert columns to integers\n",
        "    convert_column_to_int(df, \"Value\")\n",
        "    convert_column_to_int(df, \"Wage\")\n",
        "    convert_column_to_int(df, \"Height\")\n",
        "    convert_column_to_int(df, \"Weight\")\n",
        "\n",
        "    # Extract the body type from values that contain additional information\n",
        "    df['Body Type'] = df['Body Type'].str.extract('(Normal|Stocky|Unique|Lean)')\n",
        "\n",
        "    # Drop unnecessary columns\n",
        "    columns_to_drop = ['Photo','Flag', 'Club Logo', 'Real Face', 'Joined', 'Loaned From', 'Contract Valid Until',' Jersey Number','Release Clause']\n",
        "    for column in columns_to_drop:\n",
        "        if column in df.columns:\n",
        "            df = df.drop(column, axis=1)\n",
        "\n",
        "    return df\n"
      ]
    },
    {
      "cell_type": "code",
      "execution_count": null,
      "metadata": {
        "id": "i0sZhe91prBj"
      },
      "outputs": [],
      "source": [
        "# Clean each dataset using the function\n",
        "fifa17 = clean_fifa_data(fifa17)\n",
        "fifa18 = clean_fifa_data(fifa18)\n",
        "fifa19 = clean_fifa_data(fifa19)\n",
        "fifa20 = clean_fifa_data(fifa20)\n",
        "fifa21 = clean_fifa_data(fifa21)\n",
        "fifa22 = clean_fifa_data(fifa22)"
      ]
    },
    {
      "cell_type": "code",
      "execution_count": null,
      "metadata": {
        "colab": {
          "base_uri": "https://localhost:8080/"
        },
        "id": "0H6GjzZjvjRg",
        "outputId": "2c0f5f5b-66ea-40cc-c48e-e174e9c8598c"
      },
      "outputs": [
        {
          "output_type": "execute_result",
          "data": {
            "text/plain": [
              "array(['ST', 'CDM', 'LB', 'CAM', 'RB', 'LWB', 'CM', 'RWB', 'RM', 'LM',\n",
              "       'CB', 'LW', 'CF', 'RW', 'GK'], dtype=object)"
            ]
          },
          "metadata": {},
          "execution_count": 7
        }
      ],
      "source": [
        "fifa17[\"Best Position\"].unique()\n"
      ]
    },
    {
      "cell_type": "code",
      "source": [
        "def split_by_position(df):\n",
        "    # Filter rows for defenders\n",
        "    df_defender = df[(df['Best Position'].isin(['CB', 'RB', 'LB', 'RWB', 'LWB']))]\n",
        "\n",
        "    # Filter rows for midfielders\n",
        "    df_midfielder = df[(df['Best Position'].isin(['CM', 'CDM', 'CAM', 'RM', 'LM']))]\n",
        "\n",
        "    # Filter rows for forwards\n",
        "    df_forward = df[(df['Best Position'].isin(['ST', 'CF', 'RW', 'LW']))]\n",
        "\n",
        "    # Filter rows for goalkeepers\n",
        "    df_goalkeeper = df[(df['Best Position'].isin(['GK']))]\n",
        "\n",
        "    return df_defender, df_midfielder, df_forward, df_goalkeeper\n",
        "\n"
      ],
      "metadata": {
        "id": "8FhhCYJ2zBgi"
      },
      "execution_count": null,
      "outputs": []
    },
    {
      "cell_type": "code",
      "source": [
        "fifa17_defender, fifa17_midfielder, fifa17_forward, fifa17_goalkeeper = split_by_position(fifa17)\n",
        "fifa18_defender, fifa18_midfielder, fifa18_forward, fifa18_goalkeeper = split_by_position(fifa18)\n",
        "fifa19_defender, fifa19_midfielder, fifa19_forward, fifa19_goalkeeper = split_by_position(fifa19)\n",
        "fifa20_defender, fifa20_midfielder, fifa20_forward, fifa20_goalkeeper = split_by_position(fifa20)\n",
        "fifa21_defender, fifa21_midfielder, fifa21_forward, fifa21_goalkeeper = split_by_position(fifa21)\n",
        "fifa22_defender, fifa22_midfielder, fifa22_forward, fifa22_goalkeeper = split_by_position(fifa22)\n",
        "\n",
        "\n"
      ],
      "metadata": {
        "id": "0FdZpyG5zrWG"
      },
      "execution_count": null,
      "outputs": []
    },
    {
      "cell_type": "code",
      "source": [
        "# export to csv files\n",
        "\n",
        "# # FIFA 17\n",
        "# fifa17_defender.to_csv('fifa17_defender.csv', index=False)\n",
        "# fifa17_midfielder.to_csv('fifa17_midfielder.csv', index=False)\n",
        "# fifa17_forward.to_csv('fifa17_forward.csv', index=False)\n",
        "# fifa17_goalkeeper.to_csv('fifa17_goalkeeper.csv', index=False)\n",
        "\n",
        "# # FIFA 18\n",
        "# fifa18_defender.to_csv('fifa18_defender.csv', index=False)\n",
        "# fifa18_midfielder.to_csv('fifa18_midfielder.csv', index=False)\n",
        "# fifa18_forward.to_csv('fifa18_forward.csv', index=False)\n",
        "# fifa18_goalkeeper.to_csv('fifa18_goalkeeper.csv', index=False)\n",
        "\n",
        "# # FIFA 19\n",
        "# fifa19_defender.to_csv('fifa19_defender.csv', index=False)\n",
        "# fifa19_midfielder.to_csv('fifa19_midfielder.csv', index=False)\n",
        "# fifa19_forward.to_csv('fifa19_forward.csv', index=False)\n",
        "# fifa19_goalkeeper.to_csv('fifa19_goalkeeper.csv', index=False)\n",
        "\n",
        "# # FIFA 20\n",
        "# fifa20_defender.to_csv('fifa20_defender.csv', index=False)\n",
        "# fifa20_midfielder.to_csv('fifa20_midfielder.csv', index=False)\n",
        "# fifa20_forward.to_csv('fifa20_forward.csv', index=False)\n",
        "# fifa20_goalkeeper.to_csv('fifa20_goalkeeper.csv', index=False)\n",
        "\n",
        "# # FIFA 21\n",
        "# fifa21_defender.to_csv('fifa21_defender.csv', index=False)\n",
        "# fifa21_midfielder.to_csv('fifa21_midfielder.csv', index=False)\n",
        "# fifa21_forward.to_csv('fifa21_forward.csv', index=False)\n",
        "# fifa21_goalkeeper.to_csv('fifa21_goalkeeper.csv', index=False)\n",
        "\n",
        "# # FIFA 22\n",
        "# fifa22_defender.to_csv('fifa22_defender.csv', index=False)\n",
        "# fifa22_midfielder.to_csv('fifa22_midfielder.csv', index=False)\n",
        "# fifa22_forward.to_csv('fifa22_forward.csv', index=False)\n",
        "# fifa22_goalkeeper.to_csv('fifa22_goalkeeper.csv', index=False)"
      ],
      "metadata": {
        "id": "Swo-dezjGcgD"
      },
      "execution_count": null,
      "outputs": []
    }
  ],
  "metadata": {
    "colab": {
      "provenance": []
    },
    "kernelspec": {
      "display_name": "Python 3",
      "name": "python3"
    },
    "language_info": {
      "name": "python"
    }
  },
  "nbformat": 4,
  "nbformat_minor": 0
}